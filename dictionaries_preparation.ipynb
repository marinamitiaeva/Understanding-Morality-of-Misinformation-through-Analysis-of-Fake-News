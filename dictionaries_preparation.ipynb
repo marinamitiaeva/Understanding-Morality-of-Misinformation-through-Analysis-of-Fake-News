{
 "cells": [
  {
   "cell_type": "code",
   "execution_count": 3,
   "metadata": {},
   "outputs": [],
   "source": [
    "import pandas as pd\n",
    "import shutil\n",
    "import json\n",
    "import re"
   ]
  },
  {
   "cell_type": "code",
   "execution_count": 4,
   "metadata": {},
   "outputs": [],
   "source": [
    "dimensions = ['care', 'fairness', 'loyalty', 'authority', 'sanctity']\n",
    "polarities = ['virtue', 'vice']"
   ]
  },
  {
   "cell_type": "code",
   "execution_count": 5,
   "metadata": {},
   "outputs": [],
   "source": [
    "# save and move JSON data\n",
    "def save_and_move_json(data, filename, destination):\n",
    "    with open(filename, 'w') as file:\n",
    "        json.dump(data, file)\n",
    "    shutil.move(filename, destination)"
   ]
  },
  {
   "cell_type": "code",
   "execution_count": 4,
   "metadata": {},
   "outputs": [],
   "source": [
    "# parse dic format\n",
    "def parse_dic(path, dimensions, polarities):\n",
    "    output = {dim: {pol: [] for pol in polarities} for dim in dimensions}\n",
    "    mapping = {}\n",
    "\n",
    "    with open(path, 'r') as file:\n",
    "        lines = file.readlines()\n",
    "        for line in lines:\n",
    "            if line.strip() and line[0].isdigit():\n",
    "                parts = re.split(r'\\s+', line.strip())\n",
    "                if len(parts) == 2 and '.' in parts[1]:\n",
    "                    dimension, polarity = parts[1].split('.')\n",
    "                    mapping[parts[0]] = (dimension, polarity)\n",
    "\n",
    "    for line in lines:\n",
    "        parts = re.split(r'\\s+', line.strip())\n",
    "        if len(parts) >= 2 and parts[-1].isdigit():\n",
    "            word = parts[0].strip('*')\n",
    "            for category_number in parts[1:]:\n",
    "                if category_number in mapping:\n",
    "                    dimension, polarity = mapping[category_number]\n",
    "                    output[dimension][polarity].append(word)\n",
    "\n",
    "    return output"
   ]
  },
  {
   "cell_type": "code",
   "execution_count": 6,
   "metadata": {},
   "outputs": [
    {
     "ename": "NameError",
     "evalue": "name 'parse_dic' is not defined",
     "output_type": "error",
     "traceback": [
      "\u001b[0;31m---------------------------------------------------------------------------\u001b[0m",
      "\u001b[0;31mNameError\u001b[0m                                 Traceback (most recent call last)",
      "Cell \u001b[0;32mIn[6], line 7\u001b[0m\n\u001b[1;32m      1\u001b[0m dictionary_paths \u001b[38;5;241m=\u001b[39m {\n\u001b[1;32m      2\u001b[0m     \u001b[38;5;124m'\u001b[39m\u001b[38;5;124mmft\u001b[39m\u001b[38;5;124m'\u001b[39m: \u001b[38;5;124m'\u001b[39m\u001b[38;5;124m/workspaces/fake_news_analysis/dictionaries/raw/mft_original.dic\u001b[39m\u001b[38;5;124m'\u001b[39m,\n\u001b[1;32m      3\u001b[0m     \u001b[38;5;124m'\u001b[39m\u001b[38;5;124mmfd2\u001b[39m\u001b[38;5;124m'\u001b[39m: \u001b[38;5;124m'\u001b[39m\u001b[38;5;124m/workspaces/fake_news_analysis/dictionaries/raw/mfd2.0.dic\u001b[39m\u001b[38;5;124m'\u001b[39m\n\u001b[1;32m      4\u001b[0m }\n\u001b[1;32m      6\u001b[0m \u001b[38;5;28;01mfor\u001b[39;00m name, path \u001b[38;5;129;01min\u001b[39;00m dictionary_paths\u001b[38;5;241m.\u001b[39mitems():\n\u001b[0;32m----> 7\u001b[0m     dictionary_data \u001b[38;5;241m=\u001b[39m \u001b[43mparse_dic\u001b[49m(path, dimensions, polarities)\n\u001b[1;32m      8\u001b[0m     save_and_move_json(dictionary_data, \u001b[38;5;124mf\u001b[39m\u001b[38;5;124m'\u001b[39m\u001b[38;5;132;01m{\u001b[39;00mname\u001b[38;5;132;01m}\u001b[39;00m\u001b[38;5;124m_dictionary.json\u001b[39m\u001b[38;5;124m'\u001b[39m, \u001b[38;5;124mf\u001b[39m\u001b[38;5;124m'\u001b[39m\u001b[38;5;124m/workspaces/fake_news_analysis/dictionaries/processed/\u001b[39m\u001b[38;5;132;01m{\u001b[39;00mname\u001b[38;5;132;01m}\u001b[39;00m\u001b[38;5;124m_dictionary.json\u001b[39m\u001b[38;5;124m'\u001b[39m)\n",
      "\u001b[0;31mNameError\u001b[0m: name 'parse_dic' is not defined"
     ]
    }
   ],
   "source": [
    "dictionary_paths = {\n",
    "    'mft': '/workspaces/fake_news_analysis/dictionaries/raw/mft_original.dic',\n",
    "    'mfd2': '/workspaces/fake_news_analysis/dictionaries/raw/mfd2.0.dic'\n",
    "}\n",
    "\n",
    "for name, path in dictionary_paths.items():\n",
    "    dictionary_data = parse_dic(path, dimensions, polarities)\n",
    "    save_and_move_json(dictionary_data, f'{name}_dictionary.json', f'/workspaces/fake_news_analysis/dictionaries/processed/{name}_dictionary.json')"
   ]
  },
  {
   "cell_type": "code",
   "execution_count": 7,
   "metadata": {},
   "outputs": [],
   "source": [
    "# parse txt format\n",
    "def parse_txt(file_path, dimensions, polarities):\n",
    "    txt_output = {dimension: {polarity: [] for polarity in polarities} for dimension in dimensions}\n",
    "\n",
    "    with open(file_path, 'r') as file:\n",
    "        for line in file:\n",
    "            parts = line.strip().split('|')\n",
    "            if len(parts) < 6:\n",
    "                continue\n",
    "\n",
    "            token = parts[0].split(' = ')[1]\n",
    "            m_desc = parts[4].split(' = ')[1]\n",
    "\n",
    "            # adjust naming\n",
    "            if 'ingroup' in m_desc.lower():\n",
    "                m_desc += ' loyalty'\n",
    "            if 'purity' in m_desc.lower():\n",
    "                m_desc += ' sanctity'\n",
    "\n",
    "            for dimension in dimensions:\n",
    "                for polarity in polarities:\n",
    "                    if dimension.lower() in m_desc.lower() and polarity.lower() in m_desc.lower():\n",
    "                        txt_output[dimension][polarity].append(token)\n",
    "                        break\n",
    "\n",
    "    return txt_output"
   ]
  },
  {
   "cell_type": "code",
   "execution_count": 8,
   "metadata": {},
   "outputs": [],
   "source": [
    "mfd1_path = '/workspaces/fake_news_analysis/dictionaries/raw/Enhanced_Morality_Lexicon_V1.1.txt'\n",
    "\n",
    "dictionary_data = parse_txt(mfd1_path, dimensions, polarities)\n",
    "save_and_move_json(dictionary_data, 'mfd1_dictionary.json', '/workspaces/fake_news_analysis/dictionaries/processed/mfd1_dictionary.json')"
   ]
  },
  {
   "cell_type": "code",
   "execution_count": 12,
   "metadata": {},
   "outputs": [
    {
     "data": {
      "text/plain": [
       "4331"
      ]
     },
     "execution_count": 12,
     "metadata": {},
     "output_type": "execute_result"
    }
   ],
   "source": [
    "word_count=0\n",
    "for category, subcategories in dictionary_data.items():\n",
    "    for subcategory, words in subcategories.items():\n",
    "        word_count += len(words)\n",
    "word_count"
   ]
  },
  {
   "cell_type": "code",
   "execution_count": 8,
   "metadata": {},
   "outputs": [],
   "source": [
    "# parse csv format\n",
    "def parse_csv(file_path, dimensions, polarities):\n",
    "    df = pd.read_csv(file_path)\n",
    "\n",
    "    csv_output = {dimension: {polarity: [] for polarity in polarities} for dimension in dimensions}\n",
    "\n",
    "    for index, row in df.iterrows():\n",
    "        for dimension in dimensions:\n",
    "            prob_key = f'{dimension}_p'\n",
    "\n",
    "            if float(row[prob_key]) > 0:\n",
    "                for polarity in polarities:\n",
    "                    polarity_key = f'{dimension}.{polarity}'\n",
    "\n",
    "                    if polarity_key in row and float(row[polarity_key]) > 0:\n",
    "                        csv_output[dimension][polarity].append((row['word'], float(row[prob_key])))\n",
    "\n",
    "    return csv_output"
   ]
  },
  {
   "cell_type": "code",
   "execution_count": 13,
   "metadata": {},
   "outputs": [],
   "source": [
    "emfd_path = '/workspaces/fake_news_analysis/dictionaries/raw/emfd_amp.csv'\n",
    "\n",
    "dictionary_data = parse_csv(emfd_path, dimensions, polarities)\n",
    "save_and_move_json(dictionary_data, 'emfd_dictionary.json', '/workspaces/fake_news_analysis/dictionaries/processed/emfd_dictionary.json')"
   ]
  },
  {
   "cell_type": "code",
   "execution_count": 10,
   "metadata": {},
   "outputs": [],
   "source": [
    "# Function to parse TSV data and return combined DataFrame\n",
    "def parse_tsv_to_df(paths):\n",
    "    dataframes = []\n",
    "    for dim, path in paths.items():\n",
    "        df = pd.read_csv(path, sep='\\t')\n",
    "        df['dimension'] = dim\n",
    "        dataframes.append(df)\n",
    "    return pd.concat(dataframes, ignore_index=True)"
   ]
  },
  {
   "cell_type": "code",
   "execution_count": 11,
   "metadata": {},
   "outputs": [],
   "source": [
    "# classify terms\n",
    "def classify_terms(df, dimensions, polarities):\n",
    "\n",
    "    output = {dimension: {polarity: [] for polarity in polarities} for dimension in dimensions}\n",
    "\n",
    "    # Iterate over each row in the DataFrame\n",
    "    for index, row in df.iterrows():\n",
    "        # Read the dimension and moral score from the row\n",
    "        dimension = row['dimension']\n",
    "        score = row['EXPRESSED_MORAL']\n",
    "\n",
    "        # Determine polarity based on score\n",
    "        polarity = 'vice' if score < 4.5 else 'virtue'\n",
    "\n",
    "        # Append the term to the corresponding list in the output structure\n",
    "        output[dimension][polarity].append((row['LEMMA'], score))\n",
    "\n",
    "    return output"
   ]
  },
  {
   "cell_type": "code",
   "execution_count": 12,
   "metadata": {},
   "outputs": [],
   "source": [
    "# TSV file paths\n",
    "tsv_paths = {\n",
    "    'care': '/workspaces/fake_news_analysis/dictionaries/raw/care.tsv',\n",
    "    'fairness': '/workspaces/fake_news_analysis/dictionaries/raw/fairness.tsv',\n",
    "    'loyalty': '/workspaces/fake_news_analysis/dictionaries/raw/loyalty.tsv',\n",
    "    'authority': '/workspaces/fake_news_analysis/dictionaries/raw/authority.tsv',\n",
    "    'sanctity': '/workspaces/fake_news_analysis/dictionaries/raw/purity.tsv'\n",
    "}\n",
    "\n",
    "# Load and process TSV data\n",
    "final_data = parse_tsv_to_df(tsv_paths)\n",
    "ms_dictionary = classify_terms(final_data, dimensions, polarities)\n",
    "save_and_move_json(ms_dictionary, 'ms_dictionary.json', '/workspaces/fake_news_analysis/dictionaries/processed/ms_dictionary.json')"
   ]
  }
 ],
 "metadata": {
  "kernelspec": {
   "display_name": "Python 3",
   "language": "python",
   "name": "python3"
  },
  "language_info": {
   "codemirror_mode": {
    "name": "ipython",
    "version": 3
   },
   "file_extension": ".py",
   "mimetype": "text/x-python",
   "name": "python",
   "nbconvert_exporter": "python",
   "pygments_lexer": "ipython3",
   "version": "3.10.13"
  }
 },
 "nbformat": 4,
 "nbformat_minor": 2
}
